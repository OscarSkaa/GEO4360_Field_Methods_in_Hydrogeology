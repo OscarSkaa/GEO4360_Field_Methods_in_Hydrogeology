{
 "cells": [
  {
   "cell_type": "code",
   "execution_count": null,
   "id": "4c2def51",
   "metadata": {},
   "outputs": [
    {
     "name": "stdout",
     "output_type": "stream",
     "text": [
      "[0.145  0.28   0.2775 0.265  0.2225 0.095 ]\n",
      "[35.  45.5 14.  20.5 17.   0. ]\n",
      "Section widths (m): [0.21 0.21 0.21 0.21 0.21 0.21]\n",
      "Subsection depths (m): [0.145  0.28   0.2775 0.265  0.2225 0.095 ]\n",
      "Subsection velocities (m/s): [0.04964167 0.06033417 0.02825667 0.03487583 0.03131167 0.014     ]\n",
      "Discharge per subsection (m³/s): [0.00151159 0.00354765 0.00164666 0.00194084 0.00146304 0.0002793 ]\n",
      "\n",
      "Total river discharge Q = 0.01039 m³/s\n"
     ]
    }
   ],
   "source": [
    "import numpy as np\n",
    "\n",
    "# Input data\n",
    "width_of_river = 1.30  # meters (not used directly, just for reference)\n",
    "width_cm = np.array([0, 21, 42, 63, 84, 105, 126])  # cm from bank\n",
    "depth_cm = np.array([1, 28, 28, 27.5, 25.5, 19, 0])  # cm\n",
    "rotations = np.array([0, 70, 21, 7, 34, 0, 0])  # per minute\n",
    "\n",
    "# Convert cm to meters\n",
    "positions = width_cm / 100  # positions across river in meters\n",
    "depths = depth_cm / 100     # depths in meters\n",
    "\n",
    "# Calculate subsection widths as the distance between positions\n",
    "section_widths = np.diff(positions)  # len = n-1\n",
    "\n",
    "# For depths and rotations: take average between each pair for subsection\n",
    "subsection_depths = (depths[:-1] + depths[1:]) / 2\n",
    "subsection_rotations = (rotations[:-1] + rotations[1:]) / 2\n",
    "print(subsection_depths)\n",
    "print(subsection_rotations)\n",
    "\n",
    "# Convert rotations per minute to per second (since formulas use per second)\n",
    "n_sec = subsection_rotations / 60\n",
    "\n",
    "def calculate_velocity(n):\n",
    "    # Correction equations from PDF\n",
    "    if n < 2.05:\n",
    "        return 0.0611 * n + 0.014\n",
    "    elif n < 8.75:\n",
    "        return 0.0567 * n + 0.028\n",
    "    else:\n",
    "        return 0.0535 * n + 0.051\n",
    "\n",
    "# Vectorize velocity calculation\n",
    "velocities = np.array([calculate_velocity(n) for n in n_sec])\n",
    "\n",
    "# Area per subsection\n",
    "areas = section_widths * subsection_depths  # m²\n",
    "\n",
    "# Discharge per subsection\n",
    "Q_sections = areas * velocities  # m³/s\n",
    "\n",
    "# Total discharge\n",
    "Q_total = np.sum(Q_sections)\n",
    "\n",
    "print(\"Section widths (m):\", section_widths)\n",
    "print(\"Subsection depths (m):\", subsection_depths)\n",
    "print(\"Subsection velocities (m/s):\", velocities)\n",
    "print(\"Discharge per subsection (m³/s):\", Q_sections)\n",
    "print(\"\\nTotal river discharge Q = {:.5f} m³/s\".format(Q_total))\n"
   ]
  }
 ],
 "metadata": {
  "kernelspec": {
   "display_name": "base",
   "language": "python",
   "name": "python3"
  },
  "language_info": {
   "codemirror_mode": {
    "name": "ipython",
    "version": 3
   },
   "file_extension": ".py",
   "mimetype": "text/x-python",
   "name": "python",
   "nbconvert_exporter": "python",
   "pygments_lexer": "ipython3",
   "version": "3.12.4"
  }
 },
 "nbformat": 4,
 "nbformat_minor": 5
}
