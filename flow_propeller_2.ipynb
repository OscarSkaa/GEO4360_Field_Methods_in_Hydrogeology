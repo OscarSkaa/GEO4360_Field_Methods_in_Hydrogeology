{
 "cells": [
  {
   "cell_type": "code",
   "execution_count": null,
   "id": "3d49c978",
   "metadata": {},
   "outputs": [
    {
     "name": "stdout",
     "output_type": "stream",
     "text": [
      "[0.075 0.14  0.13  0.11  0.06  0.025]\n",
      "[ 68.  153.  164.5  91.   11.5   0. ]\n",
      "Section widths (m): [0.2 0.2 0.2 0.2 0.2 0.1]\n",
      "Subsection depths (m): [0.075 0.14  0.13  0.11  0.06  0.025]\n",
      "Subsection velocities (m/s): [0.08324667 0.172585   0.1834525  0.10666833 0.02571083 0.014     ]\n",
      "Discharge per subsection (m³/s): [1.24870000e-03 4.83238000e-03 4.76976500e-03 2.34670333e-03\n",
      " 3.08530000e-04 3.50000000e-05]\n",
      "\n",
      "Total river discharge Q = 0.01354 m³/s\n"
     ]
    }
   ],
   "source": [
    "import numpy as np\n",
    "\n",
    "width_cm = np.array([0, 20, 40, 60, 80, 100, 110])  # cm\n",
    "depth_cm = np.array([0, 15, 13, 13, 9, 3, 2])  # cm\n",
    "rotations = np.array([0, 136, 170, 159, 23, 0, 0])  # RPM\n",
    "\n",
    "# Convert cm to meters\n",
    "positions = width_cm / 100  # positions across river in meters\n",
    "depths = depth_cm / 100     # depths in meters\n",
    "\n",
    "# Calculate subsection widths as the distance between positions\n",
    "section_widths = np.diff(positions)  # len = n-1\n",
    "\n",
    "# For depths and rotations: take average between each pair for subsection\n",
    "subsection_depths = (depths[:-1] + depths[1:]) / 2\n",
    "subsection_rotations = (rotations[:-1] + rotations[1:]) / 2\n",
    "print(subsection_depths)\n",
    "print(subsection_rotations)\n",
    "\n",
    "# Convert rotations per minute to per second (since formulas use per second)\n",
    "n_sec = subsection_rotations / 60\n",
    "\n",
    "def calculate_velocity(n):\n",
    "    # Correction equations from PDF\n",
    "    if n < 2.05:\n",
    "        return 0.0611 * n + 0.014\n",
    "    elif n < 8.75:\n",
    "        return 0.0567 * n + 0.028\n",
    "    else:\n",
    "        return 0.0535 * n + 0.051\n",
    "\n",
    "# Vectorize velocity calculation\n",
    "velocities = np.array([calculate_velocity(n) for n in n_sec])\n",
    "\n",
    "# Area per subsection\n",
    "areas = section_widths * subsection_depths  # m²\n",
    "\n",
    "# Discharge per subsection\n",
    "Q_sections = areas * velocities  # m³/s\n",
    "\n",
    "# Total discharge\n",
    "Q_total = np.sum(Q_sections)\n",
    "\n",
    "print(\"Section widths (m):\", section_widths)\n",
    "print(\"Subsection depths (m):\", subsection_depths)\n",
    "print(\"Subsection velocities (m/s):\", velocities)\n",
    "print(\"Discharge per subsection (m³/s):\", Q_sections)\n",
    "print(\"\\nTotal river discharge Q = {:.5f} m³/s\".format(Q_total))\n"
   ]
  }
 ],
 "metadata": {
  "kernelspec": {
   "display_name": "base",
   "language": "python",
   "name": "python3"
  },
  "language_info": {
   "codemirror_mode": {
    "name": "ipython",
    "version": 3
   },
   "file_extension": ".py",
   "mimetype": "text/x-python",
   "name": "python",
   "nbconvert_exporter": "python",
   "pygments_lexer": "ipython3",
   "version": "3.12.4"
  }
 },
 "nbformat": 4,
 "nbformat_minor": 5
}
